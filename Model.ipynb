{
 "cells": [
  {
   "cell_type": "markdown",
   "metadata": {},
   "source": [
    "<h2> Predicting PGA Rank with Machine Learning </h2>\n",
    "\n",
    "<p> <img class=\"img-fluid\" alt=\"Responsive image\"  src=\"https://picsum.photos/1200/200/?image=47\"></p>"
   ]
  },
  {
   "cell_type": "markdown",
   "metadata": {},
   "source": [
    "<p>\n",
    "\n",
    "In this post we will take the pga stats data found on [pga.com](https://www.pgatour.com/stats.html) and use a Random Forrest model to predict the 2018 PGA Ranks by training our algorithm on previous year data.  We will then explore the feature importance to better understand what metrics were important in predicting rank. \n",
    "\n",
    "</p>"
   ]
  },
  {
   "cell_type": "markdown",
   "metadata": {},
   "source": [
    "<h3> Packages </h3>"
   ]
  },
  {
   "cell_type": "code",
   "execution_count": null,
   "metadata": {},
   "outputs": [],
   "source": [
    "import pandas as pd\n",
    "import numpy as np\n",
    "import matplotlib.pyplot as plt\n",
    "from sklearn.metrics import mean_squared_error, r2_score\n",
    "from sklearn.ensemble import RandomForestRegressor\n",
    "import re\n",
    "import my_utils\n",
    "\n",
    "\n",
    "%matplotlib inline"
   ]
  },
  {
   "cell_type": "markdown",
   "metadata": {},
   "source": [
    "<p> \n",
    "For this project we will be using [scikit-learn](https://scikit-learn.org/) which is a machine learning library for Python.  Instead of importing the entire package we grab the model \"RandomForestRegressor\" and the two scoring metrics that we need.  We also are importing a package called my_utils wich contains some custom functions I wrote to assist in the project.  \n",
    "</p>\n",
    "\n"
   ]
  },
  {
   "cell_type": "markdown",
   "metadata": {},
   "source": [
    "<h3> The Data </h3>"
   ]
  },
  {
   "cell_type": "code",
   "execution_count": null,
   "metadata": {},
   "outputs": [],
   "source": [
    "my_utils.extract_pga_data()\n",
    "my_utils.transform_pga_data()"
   ]
  },
  {
   "cell_type": "markdown",
   "metadata": {},
   "source": [
    "<p>\n",
    "If you go to [pga/stats](https://www.pgatour.com/stats.html) you'll notice the data isn't all in one place for us to grab and throw into our algortithm.  This is a typical issue with machine learning and you'll find that most of your time is spent wrangling the data vs actually training the algorithm.  \n",
    "\n",
    "The my_utils.extract_pga_data() function extracts all the tables found on pga.com and then the my_utils.transform_pga_data() takes those tables and combines them into a single table and exports it into a file called \"pga_stats.csv\". I'll make a post in the future to cover both these functions.\n",
    "\n",
    "<p>"
   ]
  },
  {
   "cell_type": "code",
   "execution_count": 2,
   "metadata": {},
   "outputs": [],
   "source": [
    "df = pd.read_csv('pga_stats.csv', low_memory=False)"
   ]
  },
  {
   "cell_type": "code",
   "execution_count": 3,
   "metadata": {},
   "outputs": [
    {
     "name": "stdout",
     "output_type": "stream",
     "text": [
      "<class 'pandas.core.frame.DataFrame'>\n",
      "RangeIndex: 17648 entries, 0 to 17647\n",
      "Columns: 1168 entries, Player Name to SG_Putting_TOTAL PUTTS GAINED\n",
      "dtypes: float64(998), int64(1), object(169)\n",
      "memory usage: 157.3+ MB\n"
     ]
    }
   ],
   "source": [
    "df.info()"
   ]
  },
  {
   "cell_type": "code",
   "execution_count": 4,
   "metadata": {},
   "outputs": [
    {
     "data": {
      "text/html": [
       "<div>\n",
       "<style scoped>\n",
       "    .dataframe tbody tr th:only-of-type {\n",
       "        vertical-align: middle;\n",
       "    }\n",
       "\n",
       "    .dataframe tbody tr th {\n",
       "        vertical-align: top;\n",
       "    }\n",
       "\n",
       "    .dataframe thead th {\n",
       "        text-align: right;\n",
       "    }\n",
       "</style>\n",
       "<table border=\"1\" class=\"dataframe\">\n",
       "  <thead>\n",
       "    <tr style=\"text-align: right;\">\n",
       "      <th></th>\n",
       "      <th>Player Name</th>\n",
       "      <th>GIR_Percentage_from_Fairway_ROUNDS</th>\n",
       "      <th>GIR_Percentage_from_Fairway_%</th>\n",
       "      <th>GIR_Percentage_from_Fairway_GREENS HIT</th>\n",
       "      <th>GIR_Percentage_from_Fairway_# OF HOLES</th>\n",
       "      <th>Greens_in_Regulation_Percentage_ROUNDS</th>\n",
       "      <th>Greens_in_Regulation_Percentage_%</th>\n",
       "      <th>Greens_in_Regulation_Percentage_GREENS HIT</th>\n",
       "      <th>Greens_in_Regulation_Percentage_# HOLES</th>\n",
       "      <th>Greens_in_Regulation_Percentage_RELATIVE/PAR</th>\n",
       "      <th>...</th>\n",
       "      <th>Left_Tendency_%</th>\n",
       "      <th>Left_Tendency_NUMBER OF TIMES</th>\n",
       "      <th>Left_Tendency_ATTEMPTS</th>\n",
       "      <th>Left_Tendency_AVG RTP SCORE</th>\n",
       "      <th>Right_Tendency_EVENTS</th>\n",
       "      <th>Right_Tendency_%</th>\n",
       "      <th>Right_Tendency_NUMBER OF TIMES</th>\n",
       "      <th>Right_Tendency_ATTEMPTS</th>\n",
       "      <th>Right_Tendency_AVG RTP SCORE</th>\n",
       "      <th>SG_Putting_TOTAL PUTTS GAINED</th>\n",
       "    </tr>\n",
       "  </thead>\n",
       "  <tbody>\n",
       "    <tr>\n",
       "      <th>0</th>\n",
       "      <td>Fred Couples</td>\n",
       "      <td>71.0</td>\n",
       "      <td>84.14</td>\n",
       "      <td>467.0</td>\n",
       "      <td>555.0</td>\n",
       "      <td>71.0</td>\n",
       "      <td>71.13</td>\n",
       "      <td>845.0</td>\n",
       "      <td>1188.0</td>\n",
       "      <td>-0.28</td>\n",
       "      <td>...</td>\n",
       "      <td>NaN</td>\n",
       "      <td>NaN</td>\n",
       "      <td>NaN</td>\n",
       "      <td>NaN</td>\n",
       "      <td>NaN</td>\n",
       "      <td>NaN</td>\n",
       "      <td>NaN</td>\n",
       "      <td>NaN</td>\n",
       "      <td>NaN</td>\n",
       "      <td>NaN</td>\n",
       "    </tr>\n",
       "    <tr>\n",
       "      <th>1</th>\n",
       "      <td>Tiger Woods</td>\n",
       "      <td>82.0</td>\n",
       "      <td>82.08</td>\n",
       "      <td>591.0</td>\n",
       "      <td>720.0</td>\n",
       "      <td>82.0</td>\n",
       "      <td>75.15</td>\n",
       "      <td>974.0</td>\n",
       "      <td>1296.0</td>\n",
       "      <td>-0.37</td>\n",
       "      <td>...</td>\n",
       "      <td>NaN</td>\n",
       "      <td>NaN</td>\n",
       "      <td>NaN</td>\n",
       "      <td>NaN</td>\n",
       "      <td>NaN</td>\n",
       "      <td>NaN</td>\n",
       "      <td>NaN</td>\n",
       "      <td>NaN</td>\n",
       "      <td>NaN</td>\n",
       "      <td>NaN</td>\n",
       "    </tr>\n",
       "    <tr>\n",
       "      <th>2</th>\n",
       "      <td>Stewart Cink</td>\n",
       "      <td>98.0</td>\n",
       "      <td>80.67</td>\n",
       "      <td>651.0</td>\n",
       "      <td>807.0</td>\n",
       "      <td>98.0</td>\n",
       "      <td>69.11</td>\n",
       "      <td>1132.0</td>\n",
       "      <td>1638.0</td>\n",
       "      <td>-0.28</td>\n",
       "      <td>...</td>\n",
       "      <td>NaN</td>\n",
       "      <td>NaN</td>\n",
       "      <td>NaN</td>\n",
       "      <td>NaN</td>\n",
       "      <td>NaN</td>\n",
       "      <td>NaN</td>\n",
       "      <td>NaN</td>\n",
       "      <td>NaN</td>\n",
       "      <td>NaN</td>\n",
       "      <td>NaN</td>\n",
       "    </tr>\n",
       "  </tbody>\n",
       "</table>\n",
       "<p>3 rows × 1168 columns</p>\n",
       "</div>"
      ],
      "text/plain": [
       "    Player Name  GIR_Percentage_from_Fairway_ROUNDS  \\\n",
       "0  Fred Couples                                71.0   \n",
       "1   Tiger Woods                                82.0   \n",
       "2  Stewart Cink                                98.0   \n",
       "\n",
       "   GIR_Percentage_from_Fairway_%  GIR_Percentage_from_Fairway_GREENS HIT  \\\n",
       "0                          84.14                                   467.0   \n",
       "1                          82.08                                   591.0   \n",
       "2                          80.67                                   651.0   \n",
       "\n",
       "   GIR_Percentage_from_Fairway_# OF HOLES  \\\n",
       "0                                   555.0   \n",
       "1                                   720.0   \n",
       "2                                   807.0   \n",
       "\n",
       "   Greens_in_Regulation_Percentage_ROUNDS  Greens_in_Regulation_Percentage_%  \\\n",
       "0                                    71.0                              71.13   \n",
       "1                                    82.0                              75.15   \n",
       "2                                    98.0                              69.11   \n",
       "\n",
       "   Greens_in_Regulation_Percentage_GREENS HIT  \\\n",
       "0                                       845.0   \n",
       "1                                       974.0   \n",
       "2                                      1132.0   \n",
       "\n",
       "   Greens_in_Regulation_Percentage_# HOLES  \\\n",
       "0                                   1188.0   \n",
       "1                                   1296.0   \n",
       "2                                   1638.0   \n",
       "\n",
       "   Greens_in_Regulation_Percentage_RELATIVE/PAR  \\\n",
       "0                                         -0.28   \n",
       "1                                         -0.37   \n",
       "2                                         -0.28   \n",
       "\n",
       "               ...                Left_Tendency_%  \\\n",
       "0              ...                            NaN   \n",
       "1              ...                            NaN   \n",
       "2              ...                            NaN   \n",
       "\n",
       "   Left_Tendency_NUMBER OF TIMES  Left_Tendency_ATTEMPTS  \\\n",
       "0                            NaN                     NaN   \n",
       "1                            NaN                     NaN   \n",
       "2                            NaN                     NaN   \n",
       "\n",
       "   Left_Tendency_AVG RTP SCORE  Right_Tendency_EVENTS  Right_Tendency_%  \\\n",
       "0                          NaN                    NaN               NaN   \n",
       "1                          NaN                    NaN               NaN   \n",
       "2                          NaN                    NaN               NaN   \n",
       "\n",
       "   Right_Tendency_NUMBER OF TIMES  Right_Tendency_ATTEMPTS  \\\n",
       "0                             NaN                      NaN   \n",
       "1                             NaN                      NaN   \n",
       "2                             NaN                      NaN   \n",
       "\n",
       "   Right_Tendency_AVG RTP SCORE  SG_Putting_TOTAL PUTTS GAINED  \n",
       "0                           NaN                            NaN  \n",
       "1                           NaN                            NaN  \n",
       "2                           NaN                            NaN  \n",
       "\n",
       "[3 rows x 1168 columns]"
      ]
     },
     "execution_count": 4,
     "metadata": {},
     "output_type": "execute_result"
    }
   ],
   "source": [
    "df.head(3)"
   ]
  },
  {
   "cell_type": "markdown",
   "metadata": {},
   "source": [
    "<p>\n",
    "Above we import the \"pga_stats.csv\" which was created when we ran \"my_utils.transform_pga_data()\".  The dataframe it produces contains over 1,168 columns(featues).  We could do some dimensionality reduction such as PCA but for now we'll leave it be.  Before we start optimizing our model we first need a benchmark result.  \n",
    "</p>"
   ]
  },
  {
   "cell_type": "markdown",
   "metadata": {},
   "source": [
    "<h3> Data Preparation </h3>"
   ]
  },
  {
   "cell_type": "code",
   "execution_count": 5,
   "metadata": {},
   "outputs": [
    {
     "name": "stdout",
     "output_type": "stream",
     "text": [
      "<class 'pandas.core.frame.DataFrame'>\n",
      "RangeIndex: 17648 entries, 0 to 17647\n",
      "Columns: 1168 entries, Player Name to SG_Putting_TOTAL PUTTS GAINED\n",
      "dtypes: float64(998), int64(1), object(169)\n",
      "memory usage: 157.3+ MB\n"
     ]
    }
   ],
   "source": [
    "df.info()"
   ]
  },
  {
   "cell_type": "code",
   "execution_count": 6,
   "metadata": {},
   "outputs": [
    {
     "data": {
      "text/plain": [
       "'Null Values: 16680149'"
      ]
     },
     "execution_count": 6,
     "metadata": {},
     "output_type": "execute_result"
    }
   ],
   "source": [
    "f'Null Values: {df.isna().sum().sum()}'"
   ]
  },
  {
   "cell_type": "markdown",
   "metadata": {},
   "source": [
    "<p>\n",
    "Unfortunately we can't just feed the data as is to our model.  The random forest algorithm can only handle non null numeric values.  We currently have both null values and 169 non numeric columns(object).\n",
    "</p>"
   ]
  },
  {
   "cell_type": "code",
   "execution_count": 7,
   "metadata": {},
   "outputs": [],
   "source": [
    "df = df.dropna(thresh=1000)\n",
    "df = df.dropna(thresh=1500, axis=1)"
   ]
  },
  {
   "cell_type": "code",
   "execution_count": 8,
   "metadata": {},
   "outputs": [
    {
     "name": "stdout",
     "output_type": "stream",
     "text": [
      "<class 'pandas.core.frame.DataFrame'>\n",
      "Int64Index: 2850 entries, 2661 to 16824\n",
      "Columns: 1136 entries, Player Name to Right_Tendency_AVG RTP SCORE\n",
      "dtypes: float64(967), int64(1), object(168)\n",
      "memory usage: 24.7+ MB\n"
     ]
    }
   ],
   "source": [
    "df.info()"
   ]
  },
  {
   "cell_type": "code",
   "execution_count": 9,
   "metadata": {},
   "outputs": [
    {
     "data": {
      "text/plain": [
       "'Null Values: 97374'"
      ]
     },
     "execution_count": 9,
     "metadata": {},
     "output_type": "execute_result"
    }
   ],
   "source": [
    "f'Null Values: {df.isna().sum().sum()}'"
   ]
  },
  {
   "cell_type": "markdown",
   "metadata": {},
   "source": [
    "<p>\n",
    "Pandas makes it very easy to drop null rows or columns.  Above we do both.  The first line drops all rows that don't have at least 1,000 non null values and then again for all columns that do not have at least 1,500 values.  \n",
    "</p>"
   ]
  },
  {
   "cell_type": "code",
   "execution_count": 10,
   "metadata": {},
   "outputs": [],
   "source": [
    "df.loc[:,df.dtypes == object] = df.loc[:,df.dtypes == object].applymap(my_utils.make_numeric)\n",
    "df.loc[:,df.dtypes == object] = df.loc[:,df.dtypes == object].applymap(lambda df:  0 if df=='E' else df)"
   ]
  },
  {
   "cell_type": "markdown",
   "metadata": {},
   "source": [
    "<p>\n",
    "We now need to handle the non numeric values.  We could just decide to remove these columns but instead let's try and force as many values as possible such as \" 6'11'' \" into a numeric values \"6.11\".  Finally there are some values represented as 'E'.  I assume that stands for even par so I convert them to 0.  \n",
    "</p>"
   ]
  },
  {
   "cell_type": "code",
   "execution_count": 11,
   "metadata": {},
   "outputs": [],
   "source": [
    "df = df.fillna(df.mean())\n",
    "\n",
    "players = df.loc[:,'Player Name']\n",
    "df = df.drop('Player Name', axis=1)\n",
    "\n",
    "# Drop Object Columns that did not convert\n",
    "df = df.drop(df.loc[:,df.dtypes == object], axis=1)"
   ]
  },
  {
   "cell_type": "code",
   "execution_count": 12,
   "metadata": {},
   "outputs": [
    {
     "name": "stdout",
     "output_type": "stream",
     "text": [
      "<class 'pandas.core.frame.DataFrame'>\n",
      "Int64Index: 2850 entries, 2661 to 16824\n",
      "Columns: 1133 entries, GIR_Percentage_from_Fairway_ROUNDS to Right_Tendency_AVG RTP SCORE\n",
      "dtypes: float64(1132), int64(1)\n",
      "memory usage: 24.7 MB\n"
     ]
    }
   ],
   "source": [
    "df.info()"
   ]
  },
  {
   "cell_type": "code",
   "execution_count": 13,
   "metadata": {},
   "outputs": [
    {
     "data": {
      "text/plain": [
       "'Null Values: 0'"
      ]
     },
     "execution_count": 13,
     "metadata": {},
     "output_type": "execute_result"
    }
   ],
   "source": [
    "f'Null Values: {df.isna().sum().max()}'"
   ]
  },
  {
   "cell_type": "markdown",
   "metadata": {},
   "source": [
    "The last step we need to do if fill the null values.  I used the mean for each column but it may be worth testing other values to see if it improves the result of the algorithm.  Before we remove the object columns that didn't convert to a numeric value we need to save the \"Player Name\" column in a seperate dataframe.  We will be joining this data back to our final results later on."
   ]
  },
  {
   "cell_type": "markdown",
   "metadata": {},
   "source": [
    "<h3> Train Test Split </h3>"
   ]
  },
  {
   "cell_type": "code",
   "execution_count": 14,
   "metadata": {},
   "outputs": [],
   "source": [
    "target = df[['All-Around_Ranking_TOTAL', 'Year']]"
   ]
  },
  {
   "cell_type": "markdown",
   "metadata": {},
   "source": [
    "<p> <img class=\"img-fluid\" alt=\"Responsive image\" src=\"https://i.imgur.com/2QrBEt0.png\"></p>&#10;<p>"
   ]
  },
  {
   "cell_type": "code",
   "execution_count": 25,
   "metadata": {},
   "outputs": [],
   "source": [
    "ranking = pd.read_csv(r'data/2018/POINTSRANKINGS/All-Around_Ranking.csv')"
   ]
  },
  {
   "cell_type": "code",
   "execution_count": 29,
   "metadata": {},
   "outputs": [],
   "source": [
    "ranking['All-Around_Ranking_RANK LAST WEEK'] = ranking['All-Around_Ranking_RANK LAST WEEK'].str.replace('T','').map(int)"
   ]
  },
  {
   "cell_type": "code",
   "execution_count": 41,
   "metadata": {},
   "outputs": [
    {
     "data": {
      "image/png": "[encoded data removed]",
      "text/plain": [
       "<Figure size 1152x432 with 1 Axes>"
      ]
     },
     "metadata": {
      "needs_background": "light"
     },
     "output_type": "display_data"
    }
   ],
   "source": [
    "ranking.plot(kind='scatter', x='All-Around_Ranking_RANK LAST WEEK', y='All-Around_Ranking_TOTAL', figsize=(16,6));"
   ]
  },
  {
   "cell_type": "code",
   "execution_count": null,
   "metadata": {},
   "outputs": [],
   "source": []
  },
  {
   "cell_type": "code",
   "execution_count": null,
   "metadata": {},
   "outputs": [],
   "source": []
  },
  {
   "cell_type": "code",
   "execution_count": null,
   "metadata": {},
   "outputs": [],
   "source": [
    "target['All-Around_Ranking_TOTAL'].plot('hist')"
   ]
  },
  {
   "cell_type": "code",
   "execution_count": null,
   "metadata": {},
   "outputs": [],
   "source": [
    "feature = df[df.columns[~df.columns.str.contains('par|rank|rtp|score|birdie|ball_striking|total_driving|rounds|total putts|round|sg:|sg_',case=False)]]"
   ]
  },
  {
   "cell_type": "code",
   "execution_count": null,
   "metadata": {},
   "outputs": [],
   "source": [
    "feature_train = feature[~feature['Year'].isin([2018])]\n",
    "target_train = target[~target['Year'].isin([2018])]['All-Around_Ranking_TOTAL']\n",
    "\n",
    "feature_test = feature[feature['Year'].isin([2018])]\n",
    "target_test = target[target['Year'].isin([2018])]['All-Around_Ranking_TOTAL']"
   ]
  },
  {
   "cell_type": "code",
   "execution_count": null,
   "metadata": {},
   "outputs": [],
   "source": [
    "rfr = RandomForestRegressor(n_estimators=100, n_jobs=-1)"
   ]
  },
  {
   "cell_type": "code",
   "execution_count": null,
   "metadata": {},
   "outputs": [],
   "source": [
    "rfr.fit(feature_train, target_train)"
   ]
  },
  {
   "cell_type": "code",
   "execution_count": null,
   "metadata": {},
   "outputs": [],
   "source": [
    "target_predict = rfr.predict(feature_test)"
   ]
  },
  {
   "cell_type": "code",
   "execution_count": null,
   "metadata": {},
   "outputs": [],
   "source": [
    "r2_score(target_test, target_predict)"
   ]
  },
  {
   "cell_type": "code",
   "execution_count": null,
   "metadata": {},
   "outputs": [],
   "source": [
    "np.sqrt(mean_squared_error(target_test, target_predict))"
   ]
  },
  {
   "cell_type": "code",
   "execution_count": null,
   "metadata": {},
   "outputs": [],
   "source": [
    "feature_importance_df = pd.DataFrame({'feature': feature_train.columns, 'importance': rfr.feature_importances_})"
   ]
  },
  {
   "cell_type": "code",
   "execution_count": null,
   "metadata": {},
   "outputs": [],
   "source": [
    "feature_importance_df = feature_importance_df.sort_values('importance', ascending=False)"
   ]
  },
  {
   "cell_type": "code",
   "execution_count": null,
   "metadata": {
    "scrolled": false
   },
   "outputs": [],
   "source": [
    "# In the blog show the original feature importance without removing columns and explain the process of removing them\n",
    "\n",
    "my_utils.plot_feature_importances(feature_importance_df, table=False)"
   ]
  },
  {
   "cell_type": "code",
   "execution_count": null,
   "metadata": {},
   "outputs": [],
   "source": [
    "results = pd.merge(target_test.to_frame(), players.to_frame(), left_index=True, right_index=True, how='left')"
   ]
  },
  {
   "cell_type": "code",
   "execution_count": null,
   "metadata": {},
   "outputs": [],
   "source": [
    "results = results.reset_index(drop=True)"
   ]
  },
  {
   "cell_type": "code",
   "execution_count": null,
   "metadata": {},
   "outputs": [],
   "source": [
    "results = pd.concat([results, pd.Series(target_predict)], axis=1)"
   ]
  },
  {
   "cell_type": "code",
   "execution_count": null,
   "metadata": {},
   "outputs": [],
   "source": [
    "results.columns = ['2018 Rank Score', 'Player Name', '2018 Rank Score Predict']"
   ]
  },
  {
   "cell_type": "code",
   "execution_count": null,
   "metadata": {},
   "outputs": [],
   "source": [
    "results[['2018 Rank Score', '2018 Rank Score Predict']] = results[['2018 Rank Score', '2018 Rank Score Predict']].astype(int)"
   ]
  },
  {
   "cell_type": "code",
   "execution_count": null,
   "metadata": {},
   "outputs": [],
   "source": [
    "results = results.set_index('Player Name')"
   ]
  },
  {
   "cell_type": "code",
   "execution_count": null,
   "metadata": {},
   "outputs": [],
   "source": [
    "results.sort_values('2018 Rank Score').plot()"
   ]
  },
  {
   "cell_type": "code",
   "execution_count": null,
   "metadata": {},
   "outputs": [],
   "source": [
    "results.sort_values('2018 Rank Score').plot(x='2018 Rank Score', y='2018 Rank Score Predict', kind='scatter')"
   ]
  },
  {
   "cell_type": "code",
   "execution_count": null,
   "metadata": {},
   "outputs": [],
   "source": [
    "results['Error'] = np.abs(results['2018 Rank Score'] - results['2018 Rank Score Predict'])"
   ]
  },
  {
   "cell_type": "code",
   "execution_count": null,
   "metadata": {},
   "outputs": [],
   "source": [
    "results.sort_values('2018 Rank Score')"
   ]
  },
  {
   "cell_type": "code",
   "execution_count": null,
   "metadata": {},
   "outputs": [],
   "source": [
    "results.sort_values('Error', ascending=False)"
   ]
  },
  {
   "cell_type": "code",
   "execution_count": null,
   "metadata": {},
   "outputs": [],
   "source": [
    "def missing_values_table(df):\n",
    "        # Total missing values\n",
    "        mis_val = df.isnull().sum()\n",
    "        \n",
    "        # Percentage of missing values\n",
    "        mis_val_percent = 100 * df.isnull().sum() / len(df)\n",
    "        \n",
    "        # Make a table with the results\n",
    "        mis_val_table = pd.concat([mis_val, mis_val_percent], axis=1)\n",
    "        \n",
    "        # Rename the columns\n",
    "        mis_val_table_ren_columns = mis_val_table.rename(\n",
    "        columns = {0 : 'Missing Values', 1 : '% of Total Values'})\n",
    "        \n",
    "        # Sort the table by percentage of missing descending\n",
    "        mis_val_table_ren_columns = mis_val_table_ren_columns[\n",
    "            mis_val_table_ren_columns.iloc[:,1] != 0].sort_values(\n",
    "        '% of Total Values', ascending=False).round(1)\n",
    "        \n",
    "        # Print some summary information\n",
    "        print (\"Your selected dataframe has \" + str(df.shape[1]) + \" columns.\\n\"      \n",
    "            \"There are \" + str(mis_val_table_ren_columns.shape[0]) +\n",
    "              \" columns that have missing values.\")\n",
    "        \n",
    "        # Return the dataframe with missing information\n",
    "        return mis_val_table_ren_columns"
   ]
  },
  {
   "cell_type": "code",
   "execution_count": null,
   "metadata": {},
   "outputs": [],
   "source": []
  },
  {
   "cell_type": "code",
   "execution_count": null,
   "metadata": {},
   "outputs": [],
   "source": []
  },
  {
   "cell_type": "code",
   "execution_count": null,
   "metadata": {},
   "outputs": [],
   "source": []
  },
  {
   "cell_type": "code",
   "execution_count": null,
   "metadata": {},
   "outputs": [],
   "source": []
  }
 ],
 "metadata": {
  "kernelspec": {
   "display_name": "Python 3",
   "language": "python",
   "name": "python3"
  },
  "language_info": {
   "codemirror_mode": {
    "name": "ipython",
    "version": 3
   },
   "file_extension": ".py",
   "mimetype": "text/x-python",
   "name": "python",
   "nbconvert_exporter": "python",
   "pygments_lexer": "ipython3",
   "version": "3.7.1"
  }
 },
 "nbformat": 4,
 "nbformat_minor": 2
}
